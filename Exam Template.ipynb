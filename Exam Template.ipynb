{
 "cells": [
  {
   "cell_type": "code",
   "execution_count": 36,
   "metadata": {},
   "outputs": [
    {
     "data": {
      "text/plain": [
       "\"\\n!git clone https://github.com/aizatrosli/MANB1123.git\\n!ls\\ndatasetarr = []\\nfor r, d, f in os.walk('./MANB1123'):\\n    for file in f:\\n        if '.xlsx' in file:\\n            datasetarr.append(os.path.join(r, file))\\nprint('\\n'.join(datasetarr))\\n\""
      ]
     },
     "execution_count": 36,
     "metadata": {},
     "output_type": "execute_result"
    }
   ],
   "source": [
    "\n",
    "import os,sys,time,math\n",
    "import pandas as pd\n",
    "import statsmodels.stats.api as smstats\n",
    "import statsmodels.api as sm\n",
    "from sklearn import linear_model\n",
    "from sklearn import preprocessing\n",
    "\n",
    "import seaborn as sns\n",
    "import numpy as np\n",
    "import matplotlib.pyplot as plt\n",
    "import scipy.stats as stats\n",
    "\n",
    "'''init notebook'''\n",
    "pd.set_option('display.max_rows', 500)\n",
    "pd.set_option('display.max_columns', 500)\n",
    "pd.set_option('display.width', 1000)\n",
    "sns.set()\n",
    "%matplotlib inline\n",
    "\n",
    "'''\n",
    "!git clone https://github.com/aizatrosli/MANB1123.git\n",
    "!ls\n",
    "datasetarr = []\n",
    "for r, d, f in os.walk('./MANB1123'):\n",
    "    for file in f:\n",
    "        if '.xlsx' in file:\n",
    "            datasetarr.append(os.path.join(r, file))\n",
    "print('\\n'.join(datasetarr))\n",
    "'''"
   ]
  },
  {
   "cell_type": "code",
   "execution_count": 15,
   "metadata": {},
   "outputs": [],
   "source": [
    "cl = 95\n",
    "1-((1-(cl/100))/2)\n",
    "from scipy import stats\n",
    "import math"
   ]
  },
  {
   "cell_type": "code",
   "execution_count": 33,
   "metadata": {},
   "outputs": [],
   "source": [
    "def pointestimate(x,n):\n",
    "\t'''\n",
    "\tpoint estimate\n",
    "\t\tx/n\tOR\tX/N\n",
    "\t:param x: number of items interest\n",
    "\t:param n: size of population\n",
    "\t:return: population proportion OR sample proportion\n",
    "\t'''\n",
    "\tpe = x/n\n",
    "\tprint(\"{0}Margin of Error (mean population){0}\".format(\"=\"*5))\n",
    "\tprint(\"=\"*50)\n",
    "\tprint(\"x:\\t{0}\\nn:\\t{1}\\npe:\\t{2}\".format(x, n, pe))\n",
    "\tprint(\"=\"*50)\n",
    "\treturn pe\n",
    "\n",
    "def errormeanpop(cl, std, n, tail=1):\n",
    "\t'''\n",
    "\tThis margin of error mean population\n",
    "\t\tz∗(σ/√n)\n",
    "\t*reminder if 95% confidence level:\n",
    "\t\t- two-tail : q=0.975\n",
    "\t\t- one-tail : q=0.95\n",
    "\t:param cl: confidence level. eg 95%\n",
    "\t:param std: standard deviation. use std()\n",
    "\t:param n: sample size\n",
    "\t:param kwargs: tail = specify tail number. default: 1\n",
    "\t:return: margin of error mean population\n",
    "\t'''\n",
    "\tq = 1-((1-(cl/100))/2) if tail != 1 else cl/100\n",
    "\tzcritical = stats.norm.ppf(q=q)\n",
    "\tmerror = (zcritical*std)/math.sqrt(n)\n",
    "\tprint(\"{0}Margin of Error (mean population){0}\".format(\"=\"*5))\n",
    "\tprint(\"=\"*50)\n",
    "\tprint(\"zcritical:\\t{0}\\nstd:\\t{1}\\nn:\\t{2}\\n\\nmargin of error:\\t{3}\".format(zcritical,std,n,merror))\n",
    "\tprint(\"=\"*50)\n",
    "\treturn merror\n",
    "\n",
    "\n",
    "def errorpopproportion(cl, p, n, tail=1):\n",
    "\t'''\n",
    "\tMargin of error mean population\n",
    "\t\t\t_______\n",
    "\t\tz∗ /p(1--p)\n",
    "\t\t / --------\n",
    "\t   √      n\n",
    "\n",
    "\t*reminder if 95% confidence level:\n",
    "\t\t- two-tail : q=0.975\n",
    "\t\t- one-tail : q=0.95\n",
    "\t:param cl: confidence level. eg 95%\n",
    "\t:param p: population propotion\n",
    "\t:param n: sample\n",
    "\t:param tail: specify tail number. default: 1\n",
    "\t:return: margin of error population proportion\n",
    "\t'''\n",
    "\tprint(\"{0}Margin of Error (population proportion){0}\".format(\"=\"*5))\n",
    "\tprint(\"=\"*50)\n",
    "\tq = 1-((1-(cl/100))/2) if tail != 1 else cl/100\n",
    "\tzcritical = stats.norm.ppf(q=q)\n",
    "\tmerror = zcritical * math.sqrt((p * (1 - p)) / n)\n",
    "\tprint(\"zcritical:\\t{0}\\np:\\t{1}\\nn:\\t{2}\\n\\nmargin of error:\\t{3}\".format(zcritical, p, n, merror))\n",
    "\tprint(\"=\"*50)\n",
    "\treturn merror\n",
    "\n",
    "\n",
    "def errorsinglepopmeans(cl, std, n, tail=1):\n",
    "\t'''\n",
    "\tMargin of error mean population\n",
    "\t\tt∗(σ/√n)\n",
    "\t*reminder if 95% confidence level:\n",
    "\t\t- two-tail : q=0.975\n",
    "\t\t- one-tail : q=0.95\n",
    "\t:param cl: confidence level. eg 95%\n",
    "\t:param std: sample std,s = df.std(ddof=1)\n",
    "\t:param n: sample\n",
    "\t:param tail: specify tail number. default: 1\n",
    "\t:return:\n",
    "\t'''\n",
    "\tprint(\"{0}Margin of Error (single population means T-test){0}\".format(\"=\"*5))\n",
    "\tprint(\"=\"*50)\n",
    "\tq = 1-((1-(cl/100))/2) if tail != 1 else cl/100\n",
    "\ttcritical = stats.t.ppf(q=q, df=n-1)\n",
    "\tmerror = (tcritical * std) / math.sqrt(n)\n",
    "\tprint(\"tcritical:\\t{0}\\nstd:\\t{1}\\nn:\\t{2}\\n\\nmargin of error:\\t{3}\".format(tcritical,std,n,merror))\n",
    "\tprint(\"=\"*50)\n",
    "\treturn merror\n",
    "\n",
    "def cinterval(pe, merror):\n",
    "\t'''\n",
    "\tconfidence interval = point estimate * margin of error\n",
    "\t\t1) population proportion\n",
    "\t\t\tcinterval(pe, errorpoppropotion())\n",
    "\t\t2) single population means\n",
    "\t\t\tcinterval(pe, errorsinglepopmeans())\n",
    "\t:param pe: sample mean / sample proportion / population proportion / population mean\n",
    "\t:param merror: margin of error mean population or population proportion.\n",
    "\t\t\t\t\tplease run errormeanpop or errorpopproption\n",
    "\t:return: confindence interval\n",
    "\t'''\n",
    "\tci = [pe-merror, pe+merror]\n",
    "\tprint(\"{0}Confidence Interval{0}\".format(\"=\"*5))\n",
    "\tprint(\"=\"*50)\n",
    "\tprint(\"point estimation:\\t{0}\\nmargin of error:\\t{1}\\n\\nconfidence interval:\\t[{0}+{1} ,{0}-{1}]\\n\\t\\t\\t[{2} , {3}]\".format(pe, merror, ci[0],ci[1]))\n",
    "\tprint(\"=\"*50)\n",
    "\treturn ci\n"
   ]
  },
  {
   "cell_type": "code",
   "execution_count": 34,
   "metadata": {},
   "outputs": [
    {
     "name": "stdout",
     "output_type": "stream",
     "text": [
      "=====Margin of Error (mean population)=====\n",
      "==================================================\n",
      "zcritical:\t2.3263478740408408\n",
      "std:\t1.26\n",
      "n:\t100\n",
      "\n",
      "margin of error:\t0.29311983212914594\n",
      "==================================================\n",
      "=====Confidence Interval=====\n",
      "==================================================\n",
      "point estimation:\t40.78\n",
      "margin of error:\t0.29311983212914594\n",
      "\n",
      "confidence interval:\t[40.78+0.29311983212914594 ,40.78-0.29311983212914594]\n",
      "\t\t\t[40.48688016787086 , 41.073119832129144]\n",
      "==================================================\n"
     ]
    },
    {
     "data": {
      "text/plain": [
       "[40.48688016787086, 41.073119832129144]"
      ]
     },
     "execution_count": 34,
     "metadata": {},
     "output_type": "execute_result"
    }
   ],
   "source": [
    "cinterval(40.78, errormeanpop(99,1.26,100))"
   ]
  },
  {
   "cell_type": "code",
   "execution_count": 35,
   "metadata": {},
   "outputs": [
    {
     "name": "stdout",
     "output_type": "stream",
     "text": [
      "=====Margin of Error (population proportion)=====\n",
      "==================================================\n",
      "zcritical:\t1.959963984540054\n",
      "p:\t0.34\n",
      "n:\t800\n",
      "\n",
      "margin of error:\t0.03282573988815335\n",
      "==================================================\n",
      "=====Confidence Interval=====\n",
      "==================================================\n",
      "point estimation:\t0.34\n",
      "margin of error:\t0.03282573988815335\n",
      "\n",
      "confidence interval:\t[0.34+0.03282573988815335 ,0.34-0.03282573988815335]\n",
      "\t\t\t[0.3071742601118467 , 0.3728257398881534]\n",
      "==================================================\n"
     ]
    },
    {
     "data": {
      "text/plain": [
       "[0.3071742601118467, 0.3728257398881534]"
      ]
     },
     "execution_count": 35,
     "metadata": {},
     "output_type": "execute_result"
    }
   ],
   "source": [
    "cinterval(272/800, errorpoppropotion(95, 272/800,800, tail=2))"
   ]
  },
  {
   "cell_type": "code",
   "execution_count": 38,
   "metadata": {},
   "outputs": [
    {
     "name": "stdout",
     "output_type": "stream",
     "text": [
      "Help on function ztest in module statsmodels.stats.weightstats:\n",
      "\n",
      "ztest(x1, x2=None, value=0, alternative='two-sided', usevar='pooled', ddof=1.0)\n",
      "    test for mean based on normal distribution, one or two samples\n",
      "    \n",
      "    In the case of two samples, the samples are assumed to be independent.\n",
      "    \n",
      "    Parameters\n",
      "    ----------\n",
      "    x1 : array_like, 1-D or 2-D\n",
      "        first of the two independent samples\n",
      "    x2 : array_like, 1-D or 2-D\n",
      "        second of the two independent samples\n",
      "    value : float\n",
      "        In the one sample case, value is the mean of x1 under the Null\n",
      "        hypothesis.\n",
      "        In the two sample case, value is the difference between mean of x1 and\n",
      "        mean of x2 under the Null hypothesis. The test statistic is\n",
      "        `x1_mean - x2_mean - value`.\n",
      "    alternative : string\n",
      "        The alternative hypothesis, H1, has to be one of the following\n",
      "    \n",
      "           'two-sided': H1: difference in means not equal to value (default)\n",
      "           'larger' :   H1: difference in means larger than value\n",
      "           'smaller' :  H1: difference in means smaller than value\n",
      "    \n",
      "    usevar : string, 'pooled'\n",
      "        Currently, only 'pooled' is implemented.\n",
      "        If ``pooled``, then the standard deviation of the samples is assumed to be\n",
      "        the same. see CompareMeans.ztest_ind for different options.\n",
      "    ddof : int\n",
      "        Degrees of freedom use in the calculation of the variance of the mean\n",
      "        estimate. In the case of comparing means this is one, however it can\n",
      "        be adjusted for testing other statistics (proportion, correlation)\n",
      "    \n",
      "    Returns\n",
      "    -------\n",
      "    tstat : float\n",
      "        test statisic\n",
      "    pvalue : float\n",
      "        pvalue of the t-test\n",
      "    \n",
      "    Notes\n",
      "    -----\n",
      "    usevar not implemented, is always pooled in two sample case\n",
      "    use CompareMeans instead.\n",
      "\n"
     ]
    }
   ],
   "source": [
    "help(smstats.ztest)"
   ]
  },
  {
   "cell_type": "code",
   "execution_count": null,
   "metadata": {},
   "outputs": [],
   "source": []
  }
 ],
 "metadata": {
  "kernelspec": {
   "display_name": "Python 3",
   "language": "python",
   "name": "python3"
  },
  "language_info": {
   "codemirror_mode": {
    "name": "ipython",
    "version": 3
   },
   "file_extension": ".py",
   "mimetype": "text/x-python",
   "name": "python",
   "nbconvert_exporter": "python",
   "pygments_lexer": "ipython3",
   "version": "3.7.4"
  }
 },
 "nbformat": 4,
 "nbformat_minor": 2
}
