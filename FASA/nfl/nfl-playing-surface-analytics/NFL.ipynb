{
 "cells": [
  {
   "cell_type": "code",
   "execution_count": 1,
   "metadata": {},
   "outputs": [
    {
     "name": "stdout",
     "output_type": "stream",
     "text": [
      "(105, 9) (76366748, 9) (267005, 14)\n"
     ]
    }
   ],
   "source": [
    "import pandas as pd\n",
    "import os,sys,time\n",
    "import matplotlib.pyplot as plt\n",
    "import seaborn as sns\n",
    "import dask\n",
    "import dask.dataframe as dd\n",
    "dask.config.set({\"temporary_directory\": \"E:\\\\\"})\n",
    "pd.options.display.max_columns = 9999\n",
    "pd.options.display.max_rows = 9999\n",
    "pd.options.display.width = 9999\n",
    "\n",
    "sns.set()\n",
    "'''\n",
    "injurydf = dd.read_csv(r'InjuryRecord.csv')#, low_memory=False)\n",
    "playerdf = dd.read_csv(r'PlayerTrackData.csv')#, low_memory=False)\n",
    "playdf = dd.read_csv(r'PlayList.csv')#, low_memory=False)\n",
    "'''\n",
    "injurydf = pd.read_csv(r'InjuryRecord.csv', low_memory=False)\n",
    "playerdf = pd.read_csv(r'PlayerTrackData.csv', low_memory=False)\n",
    "playdf = pd.read_csv(r'PlayList.csv', low_memory=False)\n",
    "print(injurydf.shape, playerdf.shape, playdf.shape)"
   ]
  },
  {
   "cell_type": "markdown",
   "metadata": {},
   "source": [
    "dropna first dont care less data\n",
    "memory not enuff"
   ]
  },
  {
   "cell_type": "code",
   "execution_count": 2,
   "metadata": {},
   "outputs": [
    {
     "name": "stdout",
     "output_type": "stream",
     "text": [
      "(105, 9) (76366748, 9) (267005, 14)\n",
      "(77, 9) (1839871, 9) (231996, 14)\n"
     ]
    }
   ],
   "source": [
    "print(injurydf.shape, playerdf.shape, playdf.shape)\n",
    "injurydf = injurydf.dropna()\n",
    "playerdf = playerdf.dropna()\n",
    "playdf = playdf.dropna()\n",
    "print(injurydf.shape, playerdf.shape, playdf.shape)"
   ]
  },
  {
   "cell_type": "markdown",
   "metadata": {},
   "source": [
    "investigate the relationship between the playing surface and the injury and performance of NFL athletes"
   ]
  },
  {
   "cell_type": "code",
   "execution_count": 3,
   "metadata": {
    "scrolled": false
   },
   "outputs": [
    {
     "data": {
      "text/html": [
       "<div>\n",
       "<style scoped>\n",
       "    .dataframe tbody tr th:only-of-type {\n",
       "        vertical-align: middle;\n",
       "    }\n",
       "\n",
       "    .dataframe tbody tr th {\n",
       "        vertical-align: top;\n",
       "    }\n",
       "\n",
       "    .dataframe thead th {\n",
       "        text-align: right;\n",
       "    }\n",
       "</style>\n",
       "<table border=\"1\" class=\"dataframe\">\n",
       "  <thead>\n",
       "    <tr style=\"text-align: right;\">\n",
       "      <th></th>\n",
       "      <th>PlayerKey</th>\n",
       "      <th>GameID</th>\n",
       "      <th>PlayKey</th>\n",
       "      <th>BodyPart</th>\n",
       "      <th>Surface</th>\n",
       "      <th>DM_M1</th>\n",
       "      <th>DM_M7</th>\n",
       "      <th>DM_M28</th>\n",
       "      <th>DM_M42</th>\n",
       "    </tr>\n",
       "  </thead>\n",
       "  <tbody>\n",
       "    <tr>\n",
       "      <th>0</th>\n",
       "      <td>39873</td>\n",
       "      <td>39873-4</td>\n",
       "      <td>39873-4-32</td>\n",
       "      <td>Knee</td>\n",
       "      <td>Synthetic</td>\n",
       "      <td>1</td>\n",
       "      <td>1</td>\n",
       "      <td>1</td>\n",
       "      <td>1</td>\n",
       "    </tr>\n",
       "    <tr>\n",
       "      <th>1</th>\n",
       "      <td>46074</td>\n",
       "      <td>46074-7</td>\n",
       "      <td>46074-7-26</td>\n",
       "      <td>Knee</td>\n",
       "      <td>Natural</td>\n",
       "      <td>1</td>\n",
       "      <td>1</td>\n",
       "      <td>0</td>\n",
       "      <td>0</td>\n",
       "    </tr>\n",
       "    <tr>\n",
       "      <th>2</th>\n",
       "      <td>36557</td>\n",
       "      <td>36557-1</td>\n",
       "      <td>36557-1-70</td>\n",
       "      <td>Ankle</td>\n",
       "      <td>Synthetic</td>\n",
       "      <td>1</td>\n",
       "      <td>1</td>\n",
       "      <td>1</td>\n",
       "      <td>1</td>\n",
       "    </tr>\n",
       "    <tr>\n",
       "      <th>3</th>\n",
       "      <td>46646</td>\n",
       "      <td>46646-3</td>\n",
       "      <td>46646-3-30</td>\n",
       "      <td>Ankle</td>\n",
       "      <td>Natural</td>\n",
       "      <td>1</td>\n",
       "      <td>0</td>\n",
       "      <td>0</td>\n",
       "      <td>0</td>\n",
       "    </tr>\n",
       "    <tr>\n",
       "      <th>4</th>\n",
       "      <td>43532</td>\n",
       "      <td>43532-5</td>\n",
       "      <td>43532-5-69</td>\n",
       "      <td>Ankle</td>\n",
       "      <td>Synthetic</td>\n",
       "      <td>1</td>\n",
       "      <td>1</td>\n",
       "      <td>1</td>\n",
       "      <td>1</td>\n",
       "    </tr>\n",
       "  </tbody>\n",
       "</table>\n",
       "</div>"
      ],
      "text/plain": [
       "   PlayerKey   GameID     PlayKey BodyPart    Surface  DM_M1  DM_M7  DM_M28  DM_M42\n",
       "0      39873  39873-4  39873-4-32     Knee  Synthetic      1      1       1       1\n",
       "1      46074  46074-7  46074-7-26     Knee    Natural      1      1       0       0\n",
       "2      36557  36557-1  36557-1-70    Ankle  Synthetic      1      1       1       1\n",
       "3      46646  46646-3  46646-3-30    Ankle    Natural      1      0       0       0\n",
       "4      43532  43532-5  43532-5-69    Ankle  Synthetic      1      1       1       1"
      ]
     },
     "execution_count": 3,
     "metadata": {},
     "output_type": "execute_result"
    }
   ],
   "source": [
    "injurydf.head()"
   ]
  },
  {
   "cell_type": "code",
   "execution_count": 4,
   "metadata": {},
   "outputs": [
    {
     "data": {
      "text/html": [
       "<div>\n",
       "<style scoped>\n",
       "    .dataframe tbody tr th:only-of-type {\n",
       "        vertical-align: middle;\n",
       "    }\n",
       "\n",
       "    .dataframe tbody tr th {\n",
       "        vertical-align: top;\n",
       "    }\n",
       "\n",
       "    .dataframe thead th {\n",
       "        text-align: right;\n",
       "    }\n",
       "</style>\n",
       "<table border=\"1\" class=\"dataframe\">\n",
       "  <thead>\n",
       "    <tr style=\"text-align: right;\">\n",
       "      <th></th>\n",
       "      <th>PlayKey</th>\n",
       "      <th>time</th>\n",
       "      <th>event</th>\n",
       "      <th>x</th>\n",
       "      <th>y</th>\n",
       "      <th>dir</th>\n",
       "      <th>dis</th>\n",
       "      <th>o</th>\n",
       "      <th>s</th>\n",
       "    </tr>\n",
       "  </thead>\n",
       "  <tbody>\n",
       "    <tr>\n",
       "      <th>0</th>\n",
       "      <td>26624-1-1</td>\n",
       "      <td>0.0</td>\n",
       "      <td>huddle_start_offense</td>\n",
       "      <td>87.46</td>\n",
       "      <td>28.93</td>\n",
       "      <td>288.24</td>\n",
       "      <td>0.01</td>\n",
       "      <td>262.33</td>\n",
       "      <td>0.13</td>\n",
       "    </tr>\n",
       "    <tr>\n",
       "      <th>41</th>\n",
       "      <td>26624-1-1</td>\n",
       "      <td>4.1</td>\n",
       "      <td>huddle_break_offense</td>\n",
       "      <td>87.48</td>\n",
       "      <td>28.92</td>\n",
       "      <td>325.16</td>\n",
       "      <td>0.00</td>\n",
       "      <td>266.96</td>\n",
       "      <td>0.17</td>\n",
       "    </tr>\n",
       "    <tr>\n",
       "      <th>85</th>\n",
       "      <td>26624-1-1</td>\n",
       "      <td>8.5</td>\n",
       "      <td>line_set</td>\n",
       "      <td>84.59</td>\n",
       "      <td>29.85</td>\n",
       "      <td>283.47</td>\n",
       "      <td>0.01</td>\n",
       "      <td>173.11</td>\n",
       "      <td>0.22</td>\n",
       "    </tr>\n",
       "    <tr>\n",
       "      <th>162</th>\n",
       "      <td>26624-1-1</td>\n",
       "      <td>16.2</td>\n",
       "      <td>ball_snap</td>\n",
       "      <td>84.39</td>\n",
       "      <td>29.74</td>\n",
       "      <td>94.89</td>\n",
       "      <td>0.01</td>\n",
       "      <td>191.09</td>\n",
       "      <td>1.46</td>\n",
       "    </tr>\n",
       "    <tr>\n",
       "      <th>196</th>\n",
       "      <td>26624-1-1</td>\n",
       "      <td>19.6</td>\n",
       "      <td>pass_forward</td>\n",
       "      <td>90.03</td>\n",
       "      <td>28.61</td>\n",
       "      <td>125.06</td>\n",
       "      <td>0.04</td>\n",
       "      <td>156.00</td>\n",
       "      <td>0.49</td>\n",
       "    </tr>\n",
       "  </tbody>\n",
       "</table>\n",
       "</div>"
      ],
      "text/plain": [
       "       PlayKey  time                 event      x      y     dir   dis       o     s\n",
       "0    26624-1-1   0.0  huddle_start_offense  87.46  28.93  288.24  0.01  262.33  0.13\n",
       "41   26624-1-1   4.1  huddle_break_offense  87.48  28.92  325.16  0.00  266.96  0.17\n",
       "85   26624-1-1   8.5              line_set  84.59  29.85  283.47  0.01  173.11  0.22\n",
       "162  26624-1-1  16.2             ball_snap  84.39  29.74   94.89  0.01  191.09  1.46\n",
       "196  26624-1-1  19.6          pass_forward  90.03  28.61  125.06  0.04  156.00  0.49"
      ]
     },
     "execution_count": 4,
     "metadata": {},
     "output_type": "execute_result"
    }
   ],
   "source": [
    "playerdf.head()"
   ]
  },
  {
   "cell_type": "code",
   "execution_count": 5,
   "metadata": {},
   "outputs": [
    {
     "data": {
      "text/html": [
       "<div>\n",
       "<style scoped>\n",
       "    .dataframe tbody tr th:only-of-type {\n",
       "        vertical-align: middle;\n",
       "    }\n",
       "\n",
       "    .dataframe tbody tr th {\n",
       "        vertical-align: top;\n",
       "    }\n",
       "\n",
       "    .dataframe thead th {\n",
       "        text-align: right;\n",
       "    }\n",
       "</style>\n",
       "<table border=\"1\" class=\"dataframe\">\n",
       "  <thead>\n",
       "    <tr style=\"text-align: right;\">\n",
       "      <th></th>\n",
       "      <th>PlayerKey</th>\n",
       "      <th>GameID</th>\n",
       "      <th>PlayKey</th>\n",
       "      <th>RosterPosition</th>\n",
       "      <th>PlayerDay</th>\n",
       "      <th>PlayerGame</th>\n",
       "      <th>StadiumType</th>\n",
       "      <th>FieldType</th>\n",
       "      <th>Temperature</th>\n",
       "      <th>Weather</th>\n",
       "      <th>PlayType</th>\n",
       "      <th>PlayerGamePlay</th>\n",
       "      <th>Position</th>\n",
       "      <th>PositionGroup</th>\n",
       "    </tr>\n",
       "  </thead>\n",
       "  <tbody>\n",
       "    <tr>\n",
       "      <th>0</th>\n",
       "      <td>26624</td>\n",
       "      <td>26624-1</td>\n",
       "      <td>26624-1-1</td>\n",
       "      <td>Quarterback</td>\n",
       "      <td>1</td>\n",
       "      <td>1</td>\n",
       "      <td>Outdoor</td>\n",
       "      <td>Synthetic</td>\n",
       "      <td>63</td>\n",
       "      <td>Clear and warm</td>\n",
       "      <td>Pass</td>\n",
       "      <td>1</td>\n",
       "      <td>QB</td>\n",
       "      <td>QB</td>\n",
       "    </tr>\n",
       "    <tr>\n",
       "      <th>1</th>\n",
       "      <td>26624</td>\n",
       "      <td>26624-1</td>\n",
       "      <td>26624-1-2</td>\n",
       "      <td>Quarterback</td>\n",
       "      <td>1</td>\n",
       "      <td>1</td>\n",
       "      <td>Outdoor</td>\n",
       "      <td>Synthetic</td>\n",
       "      <td>63</td>\n",
       "      <td>Clear and warm</td>\n",
       "      <td>Pass</td>\n",
       "      <td>2</td>\n",
       "      <td>QB</td>\n",
       "      <td>QB</td>\n",
       "    </tr>\n",
       "    <tr>\n",
       "      <th>2</th>\n",
       "      <td>26624</td>\n",
       "      <td>26624-1</td>\n",
       "      <td>26624-1-3</td>\n",
       "      <td>Quarterback</td>\n",
       "      <td>1</td>\n",
       "      <td>1</td>\n",
       "      <td>Outdoor</td>\n",
       "      <td>Synthetic</td>\n",
       "      <td>63</td>\n",
       "      <td>Clear and warm</td>\n",
       "      <td>Rush</td>\n",
       "      <td>3</td>\n",
       "      <td>QB</td>\n",
       "      <td>QB</td>\n",
       "    </tr>\n",
       "    <tr>\n",
       "      <th>3</th>\n",
       "      <td>26624</td>\n",
       "      <td>26624-1</td>\n",
       "      <td>26624-1-4</td>\n",
       "      <td>Quarterback</td>\n",
       "      <td>1</td>\n",
       "      <td>1</td>\n",
       "      <td>Outdoor</td>\n",
       "      <td>Synthetic</td>\n",
       "      <td>63</td>\n",
       "      <td>Clear and warm</td>\n",
       "      <td>Rush</td>\n",
       "      <td>4</td>\n",
       "      <td>QB</td>\n",
       "      <td>QB</td>\n",
       "    </tr>\n",
       "    <tr>\n",
       "      <th>4</th>\n",
       "      <td>26624</td>\n",
       "      <td>26624-1</td>\n",
       "      <td>26624-1-5</td>\n",
       "      <td>Quarterback</td>\n",
       "      <td>1</td>\n",
       "      <td>1</td>\n",
       "      <td>Outdoor</td>\n",
       "      <td>Synthetic</td>\n",
       "      <td>63</td>\n",
       "      <td>Clear and warm</td>\n",
       "      <td>Pass</td>\n",
       "      <td>5</td>\n",
       "      <td>QB</td>\n",
       "      <td>QB</td>\n",
       "    </tr>\n",
       "  </tbody>\n",
       "</table>\n",
       "</div>"
      ],
      "text/plain": [
       "   PlayerKey   GameID    PlayKey RosterPosition  PlayerDay  PlayerGame StadiumType  FieldType  Temperature         Weather PlayType  PlayerGamePlay Position PositionGroup\n",
       "0      26624  26624-1  26624-1-1    Quarterback          1           1     Outdoor  Synthetic           63  Clear and warm     Pass               1       QB            QB\n",
       "1      26624  26624-1  26624-1-2    Quarterback          1           1     Outdoor  Synthetic           63  Clear and warm     Pass               2       QB            QB\n",
       "2      26624  26624-1  26624-1-3    Quarterback          1           1     Outdoor  Synthetic           63  Clear and warm     Rush               3       QB            QB\n",
       "3      26624  26624-1  26624-1-4    Quarterback          1           1     Outdoor  Synthetic           63  Clear and warm     Rush               4       QB            QB\n",
       "4      26624  26624-1  26624-1-5    Quarterback          1           1     Outdoor  Synthetic           63  Clear and warm     Pass               5       QB            QB"
      ]
     },
     "execution_count": 5,
     "metadata": {},
     "output_type": "execute_result"
    }
   ],
   "source": [
    "playdf.head()"
   ]
  },
  {
   "cell_type": "code",
   "execution_count": 6,
   "metadata": {},
   "outputs": [],
   "source": [
    "def summary(df):\n",
    "    summarydf = pd.DataFrame(columns=df.columns)\n",
    "    summarydf.loc[\"dtype\"]= [df[col].dtype for col in df.columns.tolist()]\n",
    "    summarydf.loc[\"nunique\"]= [df[col].nunique() for col in df.columns.tolist()]\n",
    "    summarydf.loc[\"unique\"]= [df[col].unique() for col in df.columns.tolist()]\n",
    "    summarydf.sort_values(by=['nunique'], axis=1)\n",
    "    return summarydf\n"
   ]
  },
  {
   "cell_type": "markdown",
   "metadata": {},
   "source": [
    "fix values"
   ]
  },
  {
   "cell_type": "code",
   "execution_count": 7,
   "metadata": {
    "scrolled": false
   },
   "outputs": [
    {
     "data": {
      "text/html": [
       "<div>\n",
       "<style scoped>\n",
       "    .dataframe tbody tr th:only-of-type {\n",
       "        vertical-align: middle;\n",
       "    }\n",
       "\n",
       "    .dataframe tbody tr th {\n",
       "        vertical-align: top;\n",
       "    }\n",
       "\n",
       "    .dataframe thead th {\n",
       "        text-align: right;\n",
       "    }\n",
       "</style>\n",
       "<table border=\"1\" class=\"dataframe\">\n",
       "  <thead>\n",
       "    <tr style=\"text-align: right;\">\n",
       "      <th></th>\n",
       "      <th>dtype</th>\n",
       "      <th>nunique</th>\n",
       "      <th>unique</th>\n",
       "    </tr>\n",
       "  </thead>\n",
       "  <tbody>\n",
       "    <tr>\n",
       "      <th>PlayerKey</th>\n",
       "      <td>int64</td>\n",
       "      <td>74</td>\n",
       "      <td>[39873, 46074, 36557, 46646, 43532, 41145, 460...</td>\n",
       "    </tr>\n",
       "    <tr>\n",
       "      <th>GameID</th>\n",
       "      <td>object</td>\n",
       "      <td>76</td>\n",
       "      <td>[39873-4, 46074-7, 36557-1, 46646-3, 43532-5, ...</td>\n",
       "    </tr>\n",
       "    <tr>\n",
       "      <th>PlayKey</th>\n",
       "      <td>object</td>\n",
       "      <td>76</td>\n",
       "      <td>[39873-4-32, 46074-7-26, 36557-1-70, 46646-3-3...</td>\n",
       "    </tr>\n",
       "    <tr>\n",
       "      <th>BodyPart</th>\n",
       "      <td>object</td>\n",
       "      <td>3</td>\n",
       "      <td>[Knee, Ankle, Foot]</td>\n",
       "    </tr>\n",
       "    <tr>\n",
       "      <th>Surface</th>\n",
       "      <td>object</td>\n",
       "      <td>2</td>\n",
       "      <td>[Synthetic, Natural]</td>\n",
       "    </tr>\n",
       "    <tr>\n",
       "      <th>DM_M1</th>\n",
       "      <td>int64</td>\n",
       "      <td>1</td>\n",
       "      <td>[1]</td>\n",
       "    </tr>\n",
       "    <tr>\n",
       "      <th>DM_M7</th>\n",
       "      <td>int64</td>\n",
       "      <td>2</td>\n",
       "      <td>[1, 0]</td>\n",
       "    </tr>\n",
       "    <tr>\n",
       "      <th>DM_M28</th>\n",
       "      <td>int64</td>\n",
       "      <td>2</td>\n",
       "      <td>[1, 0]</td>\n",
       "    </tr>\n",
       "    <tr>\n",
       "      <th>DM_M42</th>\n",
       "      <td>int64</td>\n",
       "      <td>2</td>\n",
       "      <td>[1, 0]</td>\n",
       "    </tr>\n",
       "  </tbody>\n",
       "</table>\n",
       "</div>"
      ],
      "text/plain": [
       "            dtype nunique                                             unique\n",
       "PlayerKey   int64      74  [39873, 46074, 36557, 46646, 43532, 41145, 460...\n",
       "GameID     object      76  [39873-4, 46074-7, 36557-1, 46646-3, 43532-5, ...\n",
       "PlayKey    object      76  [39873-4-32, 46074-7-26, 36557-1-70, 46646-3-3...\n",
       "BodyPart   object       3                                [Knee, Ankle, Foot]\n",
       "Surface    object       2                               [Synthetic, Natural]\n",
       "DM_M1       int64       1                                                [1]\n",
       "DM_M7       int64       2                                             [1, 0]\n",
       "DM_M28      int64       2                                             [1, 0]\n",
       "DM_M42      int64       2                                             [1, 0]"
      ]
     },
     "execution_count": 7,
     "metadata": {},
     "output_type": "execute_result"
    }
   ],
   "source": [
    "summary(injurydf).T"
   ]
  },
  {
   "cell_type": "code",
   "execution_count": 8,
   "metadata": {},
   "outputs": [
    {
     "data": {
      "text/html": [
       "<div>\n",
       "<style scoped>\n",
       "    .dataframe tbody tr th:only-of-type {\n",
       "        vertical-align: middle;\n",
       "    }\n",
       "\n",
       "    .dataframe tbody tr th {\n",
       "        vertical-align: top;\n",
       "    }\n",
       "\n",
       "    .dataframe thead th {\n",
       "        text-align: right;\n",
       "    }\n",
       "</style>\n",
       "<table border=\"1\" class=\"dataframe\">\n",
       "  <thead>\n",
       "    <tr style=\"text-align: right;\">\n",
       "      <th></th>\n",
       "      <th>dtype</th>\n",
       "      <th>nunique</th>\n",
       "      <th>unique</th>\n",
       "    </tr>\n",
       "  </thead>\n",
       "  <tbody>\n",
       "    <tr>\n",
       "      <th>PlayKey</th>\n",
       "      <td>object</td>\n",
       "      <td>266960</td>\n",
       "      <td>[26624-1-1, 26624-1-2, 26624-1-3, 26624-1-4, 2...</td>\n",
       "    </tr>\n",
       "    <tr>\n",
       "      <th>time</th>\n",
       "      <td>float64</td>\n",
       "      <td>1299</td>\n",
       "      <td>[0.0, 4.1, 8.5, 16.2, 19.6, 21.7, 22.4, 3.5, 8...</td>\n",
       "    </tr>\n",
       "    <tr>\n",
       "      <th>event</th>\n",
       "      <td>object</td>\n",
       "      <td>80</td>\n",
       "      <td>[huddle_start_offense, huddle_break_offense, l...</td>\n",
       "    </tr>\n",
       "    <tr>\n",
       "      <th>x</th>\n",
       "      <td>float64</td>\n",
       "      <td>12077</td>\n",
       "      <td>[87.46, 87.48, 84.59, 84.39, 90.03, 91.49, 91....</td>\n",
       "    </tr>\n",
       "    <tr>\n",
       "      <th>y</th>\n",
       "      <td>float64</td>\n",
       "      <td>6543</td>\n",
       "      <td>[28.93, 28.92, 29.85, 29.74, 28.61, 28.27, 27....</td>\n",
       "    </tr>\n",
       "    <tr>\n",
       "      <th>dir</th>\n",
       "      <td>float64</td>\n",
       "      <td>36001</td>\n",
       "      <td>[288.24, 325.16, 283.47, 94.89, 125.06, 161.33...</td>\n",
       "    </tr>\n",
       "    <tr>\n",
       "      <th>dis</th>\n",
       "      <td>float64</td>\n",
       "      <td>174</td>\n",
       "      <td>[0.01, 0.0, 0.04, 0.06, 0.1, 0.02, 0.03, 0.14,...</td>\n",
       "    </tr>\n",
       "    <tr>\n",
       "      <th>o</th>\n",
       "      <td>float64</td>\n",
       "      <td>36001</td>\n",
       "      <td>[262.33, 266.96, 173.11, 191.09, 156.0, 136.26...</td>\n",
       "    </tr>\n",
       "    <tr>\n",
       "      <th>s</th>\n",
       "      <td>float64</td>\n",
       "      <td>1062</td>\n",
       "      <td>[0.13, 0.17, 0.22, 1.46, 0.49, 0.57, 0.82, 0.0...</td>\n",
       "    </tr>\n",
       "  </tbody>\n",
       "</table>\n",
       "</div>"
      ],
      "text/plain": [
       "           dtype nunique                                             unique\n",
       "PlayKey   object  266960  [26624-1-1, 26624-1-2, 26624-1-3, 26624-1-4, 2...\n",
       "time     float64    1299  [0.0, 4.1, 8.5, 16.2, 19.6, 21.7, 22.4, 3.5, 8...\n",
       "event     object      80  [huddle_start_offense, huddle_break_offense, l...\n",
       "x        float64   12077  [87.46, 87.48, 84.59, 84.39, 90.03, 91.49, 91....\n",
       "y        float64    6543  [28.93, 28.92, 29.85, 29.74, 28.61, 28.27, 27....\n",
       "dir      float64   36001  [288.24, 325.16, 283.47, 94.89, 125.06, 161.33...\n",
       "dis      float64     174  [0.01, 0.0, 0.04, 0.06, 0.1, 0.02, 0.03, 0.14,...\n",
       "o        float64   36001  [262.33, 266.96, 173.11, 191.09, 156.0, 136.26...\n",
       "s        float64    1062  [0.13, 0.17, 0.22, 1.46, 0.49, 0.57, 0.82, 0.0..."
      ]
     },
     "execution_count": 8,
     "metadata": {},
     "output_type": "execute_result"
    }
   ],
   "source": [
    "summary(playerdf).T"
   ]
  },
  {
   "cell_type": "code",
   "execution_count": 9,
   "metadata": {},
   "outputs": [
    {
     "data": {
      "text/html": [
       "<div>\n",
       "<style scoped>\n",
       "    .dataframe tbody tr th:only-of-type {\n",
       "        vertical-align: middle;\n",
       "    }\n",
       "\n",
       "    .dataframe tbody tr th {\n",
       "        vertical-align: top;\n",
       "    }\n",
       "\n",
       "    .dataframe thead th {\n",
       "        text-align: right;\n",
       "    }\n",
       "</style>\n",
       "<table border=\"1\" class=\"dataframe\">\n",
       "  <thead>\n",
       "    <tr style=\"text-align: right;\">\n",
       "      <th></th>\n",
       "      <th>dtype</th>\n",
       "      <th>nunique</th>\n",
       "      <th>unique</th>\n",
       "    </tr>\n",
       "  </thead>\n",
       "  <tbody>\n",
       "    <tr>\n",
       "      <th>PlayerKey</th>\n",
       "      <td>int64</td>\n",
       "      <td>250</td>\n",
       "      <td>[26624, 27363, 30068, 30953, 31070, 31266, 319...</td>\n",
       "    </tr>\n",
       "    <tr>\n",
       "      <th>GameID</th>\n",
       "      <td>object</td>\n",
       "      <td>4971</td>\n",
       "      <td>[26624-1, 26624-2, 26624-3, 26624-4, 26624-5, ...</td>\n",
       "    </tr>\n",
       "    <tr>\n",
       "      <th>PlayKey</th>\n",
       "      <td>object</td>\n",
       "      <td>231996</td>\n",
       "      <td>[26624-1-1, 26624-1-2, 26624-1-3, 26624-1-4, 2...</td>\n",
       "    </tr>\n",
       "    <tr>\n",
       "      <th>RosterPosition</th>\n",
       "      <td>object</td>\n",
       "      <td>10</td>\n",
       "      <td>[Quarterback, Wide Receiver, Linebacker, Runni...</td>\n",
       "    </tr>\n",
       "    <tr>\n",
       "      <th>PlayerDay</th>\n",
       "      <td>int64</td>\n",
       "      <td>210</td>\n",
       "      <td>[1, 11, 18, 25, 29, 39, 46, 53, 67, 74, 81, 88...</td>\n",
       "    </tr>\n",
       "    <tr>\n",
       "      <th>PlayerGame</th>\n",
       "      <td>int64</td>\n",
       "      <td>32</td>\n",
       "      <td>[1, 2, 3, 4, 5, 6, 7, 8, 9, 10, 11, 12, 13, 14...</td>\n",
       "    </tr>\n",
       "    <tr>\n",
       "      <th>StadiumType</th>\n",
       "      <td>object</td>\n",
       "      <td>26</td>\n",
       "      <td>[Outdoor, Indoors, Oudoor, Outdoors, Open, Clo...</td>\n",
       "    </tr>\n",
       "    <tr>\n",
       "      <th>FieldType</th>\n",
       "      <td>object</td>\n",
       "      <td>2</td>\n",
       "      <td>[Synthetic, Natural]</td>\n",
       "    </tr>\n",
       "    <tr>\n",
       "      <th>Temperature</th>\n",
       "      <td>int64</td>\n",
       "      <td>78</td>\n",
       "      <td>[63, 85, 84, 61, 76, 73, 56, 62, 48, 66, 47, 5...</td>\n",
       "    </tr>\n",
       "    <tr>\n",
       "      <th>Weather</th>\n",
       "      <td>object</td>\n",
       "      <td>63</td>\n",
       "      <td>[Clear and warm, Mostly Cloudy, Sunny, Clear, ...</td>\n",
       "    </tr>\n",
       "    <tr>\n",
       "      <th>PlayType</th>\n",
       "      <td>object</td>\n",
       "      <td>11</td>\n",
       "      <td>[Pass, Rush, 0, Kickoff Not Returned, Field Go...</td>\n",
       "    </tr>\n",
       "    <tr>\n",
       "      <th>PlayerGamePlay</th>\n",
       "      <td>int64</td>\n",
       "      <td>102</td>\n",
       "      <td>[1, 2, 3, 4, 5, 6, 7, 8, 9, 10, 11, 12, 13, 14...</td>\n",
       "    </tr>\n",
       "    <tr>\n",
       "      <th>Position</th>\n",
       "      <td>object</td>\n",
       "      <td>23</td>\n",
       "      <td>[QB, Missing Data, WR, ILB, RB, DE, TE, FS, CB...</td>\n",
       "    </tr>\n",
       "    <tr>\n",
       "      <th>PositionGroup</th>\n",
       "      <td>object</td>\n",
       "      <td>10</td>\n",
       "      <td>[QB, Missing Data, WR, LB, RB, DL, TE, DB, OL,...</td>\n",
       "    </tr>\n",
       "  </tbody>\n",
       "</table>\n",
       "</div>"
      ],
      "text/plain": [
       "                 dtype nunique                                             unique\n",
       "PlayerKey        int64     250  [26624, 27363, 30068, 30953, 31070, 31266, 319...\n",
       "GameID          object    4971  [26624-1, 26624-2, 26624-3, 26624-4, 26624-5, ...\n",
       "PlayKey         object  231996  [26624-1-1, 26624-1-2, 26624-1-3, 26624-1-4, 2...\n",
       "RosterPosition  object      10  [Quarterback, Wide Receiver, Linebacker, Runni...\n",
       "PlayerDay        int64     210  [1, 11, 18, 25, 29, 39, 46, 53, 67, 74, 81, 88...\n",
       "PlayerGame       int64      32  [1, 2, 3, 4, 5, 6, 7, 8, 9, 10, 11, 12, 13, 14...\n",
       "StadiumType     object      26  [Outdoor, Indoors, Oudoor, Outdoors, Open, Clo...\n",
       "FieldType       object       2                               [Synthetic, Natural]\n",
       "Temperature      int64      78  [63, 85, 84, 61, 76, 73, 56, 62, 48, 66, 47, 5...\n",
       "Weather         object      63  [Clear and warm, Mostly Cloudy, Sunny, Clear, ...\n",
       "PlayType        object      11  [Pass, Rush, 0, Kickoff Not Returned, Field Go...\n",
       "PlayerGamePlay   int64     102  [1, 2, 3, 4, 5, 6, 7, 8, 9, 10, 11, 12, 13, 14...\n",
       "Position        object      23  [QB, Missing Data, WR, ILB, RB, DE, TE, FS, CB...\n",
       "PositionGroup   object      10  [QB, Missing Data, WR, LB, RB, DL, TE, DB, OL,..."
      ]
     },
     "execution_count": 9,
     "metadata": {},
     "output_type": "execute_result"
    }
   ],
   "source": [
    "summary(playdf).T"
   ]
  },
  {
   "cell_type": "code",
   "execution_count": 10,
   "metadata": {},
   "outputs": [
    {
     "data": {
      "text/plain": [
       "array(['huddle_start_offense', 'huddle_break_offense', 'line_set',\n",
       "       'ball_snap', 'pass_forward', 'pass_arrived',\n",
       "       'pass_outcome_incomplete', 'pass_outcome_caught', 'first_contact',\n",
       "       'out_of_bounds', 'man_in_motion', 'handoff', 'tackle',\n",
       "       'penalty_flag', 'penalty_accepted', 'touchdown', 'shift',\n",
       "       'qb_kneel', 'fumble', 'fumble_offense_recovered', 'lateral',\n",
       "       'penalty_declined', 'qb_sack', 'pass_shovel',\n",
       "       'pass_outcome_touchdown', 'run', 'pass_outcome_interception',\n",
       "       'qb_strip_sack', 'two_point_conversion', 'pass_tipped',\n",
       "       'fumble_defense_recovered', 'two_minute_warning', 'two_point_play',\n",
       "       'snap_direct', 'play_action', 'qb_spike', 'pass_lateral',\n",
       "       'touchback', 'timeout_tv', 'timeout', 'kickoff_play',\n",
       "       'onside_kick', 'kick_received', 'safety', 'field_goal_attempt',\n",
       "       'field_goal', 'punt_play', 'punt', 'punt_land', 'fair_catch',\n",
       "       'punt_downed', 'punt_received', 'punt_fake', 'kickoff',\n",
       "       'kickoff_land', 'timeout_away', 'punt_muffed',\n",
       "       'timeout_booth_review', 'field_goal_play', 'run_pass_option',\n",
       "       'timeout_injury', 'kick_recovered', 'extra_point_attempt',\n",
       "       'extra_point', 'field_goal_blocked', 'field_goal_missed',\n",
       "       'timeout_home', 'extra_point_blocked', 'extra_point_missed',\n",
       "       'punt_blocked', 'timeout_quarter', 'end_path', 'field_goal_fake',\n",
       "       'xp_fake', 'extra_point_fake', 'timeout_halftime', 'free_kick',\n",
       "       'free_kick_play', 'drop_kick', 'play_submit\\t'], dtype=object)"
      ]
     },
     "execution_count": 10,
     "metadata": {},
     "output_type": "execute_result"
    }
   ],
   "source": [
    "playerdf['event'].unique()"
   ]
  },
  {
   "cell_type": "code",
   "execution_count": 11,
   "metadata": {},
   "outputs": [
    {
     "data": {
      "text/plain": [
       "array(['Quarterback', 'Wide Receiver', 'Linebacker', 'Running Back',\n",
       "       'Defensive Lineman', 'Tight End', 'Safety', 'Cornerback',\n",
       "       'Offensive Lineman', 'Kicker'], dtype=object)"
      ]
     },
     "execution_count": 11,
     "metadata": {},
     "output_type": "execute_result"
    }
   ],
   "source": [
    "playdf['RosterPosition'].unique()"
   ]
  },
  {
   "cell_type": "code",
   "execution_count": 12,
   "metadata": {},
   "outputs": [
    {
     "data": {
      "text/plain": [
       "array(['Outdoor', 'Indoors', 'Oudoor', 'Outdoors', 'Open', 'Closed Dome',\n",
       "       'Dome', 'Indoor', 'Domed', 'Retr. Roof-Closed', 'Retractable Roof',\n",
       "       'Ourdoor', 'Indoor, Roof Closed', 'Retr. Roof - Closed', 'Bowl',\n",
       "       'Outddors', 'Retr. Roof-Open', 'Indoor, Open Roof', 'Domed, Open',\n",
       "       'Domed, open', 'Heinz Field', 'Cloudy', 'Retr. Roof - Open',\n",
       "       'Retr. Roof Closed', 'Outdor', 'Outside'], dtype=object)"
      ]
     },
     "execution_count": 12,
     "metadata": {},
     "output_type": "execute_result"
    }
   ],
   "source": [
    "playdf['StadiumType'].unique()"
   ]
  },
  {
   "cell_type": "code",
   "execution_count": 13,
   "metadata": {},
   "outputs": [
    {
     "data": {
      "text/plain": [
       "array(['Pass', 'Rush', '0', 'Kickoff Not Returned', 'Field Goal', 'Punt',\n",
       "       'Punt Not Returned', 'Punt Returned', 'Kickoff Returned',\n",
       "       'Kickoff', 'Extra Point'], dtype=object)"
      ]
     },
     "execution_count": 13,
     "metadata": {},
     "output_type": "execute_result"
    }
   ],
   "source": [
    "playdf['PlayType'].unique()"
   ]
  },
  {
   "cell_type": "code",
   "execution_count": 14,
   "metadata": {},
   "outputs": [
    {
     "data": {
      "text/plain": [
       "array(['Clear and warm', 'Mostly Cloudy', 'Sunny', 'Clear', 'Cloudy',\n",
       "       'Cloudy, fog started developing in 2nd quarter', 'Rain',\n",
       "       'Partly Cloudy', 'Mostly cloudy', 'Cloudy and cold',\n",
       "       'Cloudy and Cool', 'Rain Chance 40%', 'Controlled Climate',\n",
       "       'Sunny and warm', 'Partly cloudy', 'Clear and Cool',\n",
       "       'Clear and cold', 'Sunny and cold', 'Indoor', 'Partly Sunny',\n",
       "       'N/A (Indoors)', 'Mostly Sunny', 'Indoors', 'Clear Skies',\n",
       "       'Partly sunny', 'Showers', 'N/A Indoor', 'Sunny and clear', 'Snow',\n",
       "       'Scattered Showers', 'Party Cloudy', 'Clear skies',\n",
       "       'Rain likely, temps in low 40s.', 'Hazy', 'Partly Clouidy',\n",
       "       'Sunny Skies', 'Overcast', 'Cloudy, 50% change of rain',\n",
       "       'Partly clear', 'Mostly Coudy', 'Light Rain', '10% Chance of Rain',\n",
       "       'Cloudy, chance of rain', 'Heat Index 95',\n",
       "       'Sunny, highs to upper 80s', 'Sun & clouds',\n",
       "       'Heavy lake effect snow', 'Fair', 'Mostly sunny', 'Cloudy, Rain',\n",
       "       'Sunny, Windy', 'Mostly Sunny Skies', 'Rainy',\n",
       "       '30% Chance of Rain', 'Cloudy, light snow accumulating 1-3\"',\n",
       "       'cloudy', 'Clear and Sunny', 'Coudy', 'Clear and sunny',\n",
       "       'Clear to Partly Cloudy',\n",
       "       'Cloudy with periods of rain, thunder possible. Winds shifting to WNW, 10-20 mph.',\n",
       "       'Rain shower', 'Cold'], dtype=object)"
      ]
     },
     "execution_count": 14,
     "metadata": {},
     "output_type": "execute_result"
    }
   ],
   "source": [
    "playdf['Weather'].unique()"
   ]
  },
  {
   "cell_type": "markdown",
   "metadata": {},
   "source": [
    "drop na based weird description"
   ]
  },
  {
   "cell_type": "code",
   "execution_count": 15,
   "metadata": {},
   "outputs": [
    {
     "name": "stdout",
     "output_type": "stream",
     "text": [
      "(77, 9) (1839871, 9) (231702, 14)\n"
     ]
    }
   ],
   "source": [
    "playdf = playdf[playdf['PlayType'] != '0']\n",
    "playdf = playdf[playdf['Position'] != 'Missing Data']\n",
    "playdf = playdf[playdf['PositionGroup'] != 'Missing Data']\n",
    "print(injurydf.shape, playerdf.shape, playdf.shape)"
   ]
  },
  {
   "cell_type": "code",
   "execution_count": 16,
   "metadata": {},
   "outputs": [
    {
     "data": {
      "text/plain": [
       "\"\\nstadiumtype = {\\n    'Outdoor' : ['Oudoor', 'Outdoors', 'Outdoor', 'Outdor', 'Outside'],\\n    'Indoor' : ['Indoors', 'Indoor'],\\n    'Dome' : ['Dome', 'Domed', 'Domed, Open', 'Domed, open', 'Domed, Open'],\\n    'Roof Close' : ['Retr. Roof-Closed', 'Retractable Roof', 'Indoor, Roof Closed', 'Retr. Roof - Closed', 'Retr. Roof Closed'],\\n    'Roof Open' : ['Retr. Roof-Open', 'Indoor, Open Roof', 'Retr. Roof - Open', 'Open'],\\n    'Heinz Field' : ['Heinz Field'],\\n    'Cloudy' : ['Cloudy'],\\n    \\n    \\n    'Outdoor', 'Indoors', 'Oudoor', 'Outdoors', 'Open', 'Closed Dome',\\n       'Dome', 'Indoor', 'Domed', 'Retr. Roof-Closed', 'Retractable Roof',\\n       'Ourdoor', 'Indoor, Roof Closed', 'Retr. Roof - Closed', 'Bowl',\\n       'Outddors', 'Retr. Roof-Open', 'Indoor, Open Roof', 'Domed, Open',\\n       'Domed, open', 'Heinz Field', 'Cloudy', 'Retr. Roof - Open',\\n       'Retr. Roof Closed', 'Outdor', 'Outside'\\n}\\ndef fixstadiumtype(row):\\n\""
      ]
     },
     "execution_count": 16,
     "metadata": {},
     "output_type": "execute_result"
    }
   ],
   "source": [
    "#bias assumption\n",
    "'''\n",
    "stadiumtype = {\n",
    "    'Outdoor' : ['Oudoor', 'Outdoors', 'Outdoor', 'Outdor', 'Outside'],\n",
    "    'Indoor' : ['Indoors', 'Indoor'],\n",
    "    'Dome' : ['Dome', 'Domed', 'Domed, Open', 'Domed, open', 'Domed, Open'],\n",
    "    'Roof Close' : ['Retr. Roof-Closed', 'Retractable Roof', 'Indoor, Roof Closed', 'Retr. Roof - Closed', 'Retr. Roof Closed'],\n",
    "    'Roof Open' : ['Retr. Roof-Open', 'Indoor, Open Roof', 'Retr. Roof - Open', 'Open'],\n",
    "    'Heinz Field' : ['Heinz Field'],\n",
    "    'Cloudy' : ['Cloudy'],\n",
    "    \n",
    "    \n",
    "    'Outdoor', 'Indoors', 'Oudoor', 'Outdoors', 'Open', 'Closed Dome',\n",
    "       'Dome', 'Indoor', 'Domed', 'Retr. Roof-Closed', 'Retractable Roof',\n",
    "       'Ourdoor', 'Indoor, Roof Closed', 'Retr. Roof - Closed', 'Bowl',\n",
    "       'Outddors', 'Retr. Roof-Open', 'Indoor, Open Roof', 'Domed, Open',\n",
    "       'Domed, open', 'Heinz Field', 'Cloudy', 'Retr. Roof - Open',\n",
    "       'Retr. Roof Closed', 'Outdor', 'Outside'\n",
    "}\n",
    "def fixstadiumtype(row):\n",
    "'''"
   ]
  },
  {
   "cell_type": "code",
   "execution_count": 17,
   "metadata": {},
   "outputs": [],
   "source": [
    "#remove fuzzy features\n",
    "playdf = playdf.drop(['Weather','StadiumType'],axis=1)"
   ]
  },
  {
   "cell_type": "code",
   "execution_count": 27,
   "metadata": {},
   "outputs": [
    {
     "data": {
      "text/plain": [
       "(231703, 18)"
      ]
     },
     "execution_count": 27,
     "metadata": {},
     "output_type": "execute_result"
    }
   ],
   "source": [
    "test = pd.merge(playdf,injurydf, on=[\"PlayKey\",\"GameID\",\"PlayerKey\"], how=\"left\")\n",
    "test.shape"
   ]
  },
  {
   "cell_type": "code",
   "execution_count": 26,
   "metadata": {},
   "outputs": [
    {
     "data": {
      "text/plain": [
       "PlayerKey         0\n",
       "GameID            0\n",
       "PlayKey           0\n",
       "RosterPosition    7\n",
       "PlayerDay         7\n",
       "PlayerGame        7\n",
       "FieldType         7\n",
       "Temperature       7\n",
       "PlayType          7\n",
       "PlayerGamePlay    7\n",
       "Position          7\n",
       "PositionGroup     7\n",
       "BodyPart          0\n",
       "Surface           0\n",
       "DM_M1             0\n",
       "DM_M7             0\n",
       "DM_M28            0\n",
       "DM_M42            0\n",
       "dtype: int64"
      ]
     },
     "execution_count": 26,
     "metadata": {},
     "output_type": "execute_result"
    }
   ],
   "source": [
    "pd.isna(test).sum()"
   ]
  },
  {
   "cell_type": "code",
   "execution_count": 20,
   "metadata": {},
   "outputs": [
    {
     "data": {
      "text/plain": [
       "(1839877, 26)"
      ]
     },
     "execution_count": 20,
     "metadata": {},
     "output_type": "execute_result"
    }
   ],
   "source": [
    "test = pd.merge(test,playerdf, on=\"PlayKey\", how=\"right\")\n",
    "test.shape"
   ]
  },
  {
   "cell_type": "code",
   "execution_count": 21,
   "metadata": {},
   "outputs": [
    {
     "data": {
      "text/plain": [
       "PlayerKey          243157\n",
       "GameID             243157\n",
       "PlayKey                 0\n",
       "RosterPosition     243157\n",
       "PlayerDay          243157\n",
       "PlayerGame         243157\n",
       "FieldType          243157\n",
       "Temperature        243157\n",
       "PlayType           243157\n",
       "PlayerGamePlay     243157\n",
       "Position           243157\n",
       "PositionGroup      243157\n",
       "BodyPart          1839429\n",
       "Surface           1839429\n",
       "DM_M1             1839429\n",
       "DM_M7             1839429\n",
       "DM_M28            1839429\n",
       "DM_M42            1839429\n",
       "time                    0\n",
       "event                   0\n",
       "x                       0\n",
       "y                       0\n",
       "dir                     0\n",
       "dis                     0\n",
       "o                       0\n",
       "s                       0\n",
       "dtype: int64"
      ]
     },
     "execution_count": 21,
     "metadata": {},
     "output_type": "execute_result"
    }
   ],
   "source": [
    "pd.isna(test).sum()"
   ]
  },
  {
   "cell_type": "code",
   "execution_count": 22,
   "metadata": {},
   "outputs": [
    {
     "name": "stdout",
     "output_type": "stream",
     "text": [
      "<class 'pandas.core.frame.DataFrame'>\n",
      "Int64Index: 448 entries, 46932 to 1592128\n",
      "Data columns (total 26 columns):\n",
      "PlayerKey         448 non-null float64\n",
      "GameID            448 non-null object\n",
      "PlayKey           448 non-null object\n",
      "RosterPosition    448 non-null object\n",
      "PlayerDay         448 non-null float64\n",
      "PlayerGame        448 non-null float64\n",
      "FieldType         448 non-null object\n",
      "Temperature       448 non-null float64\n",
      "PlayType          448 non-null object\n",
      "PlayerGamePlay    448 non-null float64\n",
      "Position          448 non-null object\n",
      "PositionGroup     448 non-null object\n",
      "BodyPart          448 non-null object\n",
      "Surface           448 non-null object\n",
      "DM_M1             448 non-null float64\n",
      "DM_M7             448 non-null float64\n",
      "DM_M28            448 non-null float64\n",
      "DM_M42            448 non-null float64\n",
      "time              448 non-null float64\n",
      "event             448 non-null object\n",
      "x                 448 non-null float64\n",
      "y                 448 non-null float64\n",
      "dir               448 non-null float64\n",
      "dis               448 non-null float64\n",
      "o                 448 non-null float64\n",
      "s                 448 non-null float64\n",
      "dtypes: float64(16), object(10)\n",
      "memory usage: 94.5+ KB\n"
     ]
    }
   ],
   "source": [
    "test.dropna().info()"
   ]
  },
  {
   "cell_type": "code",
   "execution_count": 23,
   "metadata": {},
   "outputs": [],
   "source": [
    "test.dropna().to_csv('clean_data.csv',index=False)"
   ]
  },
  {
   "cell_type": "code",
   "execution_count": 24,
   "metadata": {},
   "outputs": [],
   "source": [
    "#sns.heatmap(test.corr())"
   ]
  },
  {
   "cell_type": "code",
   "execution_count": null,
   "metadata": {},
   "outputs": [],
   "source": [
    "cleandf = test.dropna()"
   ]
  },
  {
   "cell_type": "code",
   "execution_count": null,
   "metadata": {},
   "outputs": [],
   "source": []
  }
 ],
 "metadata": {
  "kernelspec": {
   "display_name": "Python 3",
   "language": "python",
   "name": "python3"
  },
  "language_info": {
   "codemirror_mode": {
    "name": "ipython",
    "version": 3
   },
   "file_extension": ".py",
   "mimetype": "text/x-python",
   "name": "python",
   "nbconvert_exporter": "python",
   "pygments_lexer": "ipython3",
   "version": "3.7.3"
  }
 },
 "nbformat": 4,
 "nbformat_minor": 2
}
